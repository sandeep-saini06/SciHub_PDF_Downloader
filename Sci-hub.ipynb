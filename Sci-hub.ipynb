{
 "cells": [
  {
   "cell_type": "markdown",
   "id": "59f52853",
   "metadata": {},
   "source": [
    "## SCI-HUB Pdf Downloader:"
   ]
  },
  {
   "cell_type": "code",
   "execution_count": 1,
   "id": "daaaeab1",
   "metadata": {},
   "outputs": [],
   "source": [
    "# libraries:\n",
    "import requests\n",
    "from bs4 import BeautifulSoup\n",
    "import urllib.request\n",
    "import threading\n",
    "import pandas as pd\n",
    "import os\n",
    "\n",
    "# Change url of sci-hub which ever is working\n",
    "url = \"https://sci-hub.se/\"\n",
    "\n",
    "# Opener \n",
    "opener = urllib.request.build_opener()\n",
    "opener.addheaders = [('User-agent', 'Mozilla/5.0')]\n",
    "urllib.request.install_opener(opener)"
   ]
  },
  {
   "cell_type": "code",
   "execution_count": 9,
   "id": "011cc74a",
   "metadata": {},
   "outputs": [
    {
     "name": "stdout",
     "output_type": "stream",
     "text": [
      "PMids: 10\n"
     ]
    }
   ],
   "source": [
    "#Read Input\n",
    "inp = dict()\n",
    "f = open('pdfs/test_set.csv')\n",
    "\n",
    "for line in f:\n",
    "    line = line.strip('\\n')\n",
    "    (key, val) = line.split(\",\")\n",
    "    inp[key] = val\n",
    "print('PMids:',len(inp))"
   ]
  },
  {
   "cell_type": "markdown",
   "id": "4aa715b3",
   "metadata": {},
   "source": [
    "### Input in the form of Dictionary {pmid : DOI}"
   ]
  },
  {
   "cell_type": "code",
   "execution_count": 10,
   "id": "95cfacbd",
   "metadata": {},
   "outputs": [
    {
     "data": {
      "text/plain": [
       "{'29648421': '10.1166/jnn.2017.13333',\n",
       " '29441858': '10.1691/ph.2017.6839',\n",
       " '29292740': '10.3390/molecules22122175',\n",
       " '29272316': '10.1371/journal.pone.0190131',\n",
       " '29263668': '10.2147/IJN.S150196',\n",
       " '29249742': '10.7888/juoeh.39.291',\n",
       " '29232409': '10.1371/journal.pone.0189628',\n",
       " '29215048': '10.1038/s41598-017-17568-8',\n",
       " '29210279': '10.1021/acsami.7b17022',\n",
       " '29202741': '10.1186/s12906-017-2009-4'}"
      ]
     },
     "execution_count": 10,
     "metadata": {},
     "output_type": "execute_result"
    }
   ],
   "source": [
    "inp"
   ]
  },
  {
   "cell_type": "markdown",
   "id": "3bd39d1d",
   "metadata": {},
   "source": [
    "### SCI-HUB"
   ]
  },
  {
   "cell_type": "markdown",
   "id": "e7b557d7",
   "metadata": {},
   "source": [
    "- **List of found pdfs and not found pdfs named as : found and not_found_SciHub**\n",
    "- **For Maximum result run many times but before that add an \"if\" below \"for loop\"**\n",
    "    - for i in inp:\n",
    "          if i not in pdf"
   ]
  },
  {
   "cell_type": "code",
   "execution_count": null,
   "id": "1f2ad853",
   "metadata": {},
   "outputs": [],
   "source": [
    "not_found_SciHub=[]\n",
    "found=[]\n",
    "for i in inp:\n",
    "    a = url+inp[i]\n",
    "    response = requests.get(a)\n",
    "    soup = BeautifulSoup(response.text, 'html.parser')\n",
    "    links = soup.find_all('button')\n",
    "    if links != []:\n",
    "        try:\n",
    "            for link in links:\n",
    "                j = link.get('onclick')\n",
    "                l = j.replace(\"location.href='\",'')\n",
    "                l = l.replace(\"?download=true'\",'')\n",
    "            urllib.request.urlretrieve(l, i+\".pdf\")\n",
    "            found.append(i)\n",
    "        except:\n",
    "            try:\n",
    "                for link in links:\n",
    "                    j = link.get('onclick')\n",
    "                    l = j.replace(\"location.href='\",'''https:''')\n",
    "                    l = l.replace(\"?download=true'\",'')\n",
    "                urllib.request.urlretrieve(l, i+\".pdf\")\n",
    "                found.append(i)\n",
    "            except:\n",
    "                not_found_SciHub.append(i)\n",
    "                continue\n",
    "    else:\n",
    "        not_found_SciHub.append(i)"
   ]
  },
  {
   "cell_type": "markdown",
   "id": "12a32c30",
   "metadata": {},
   "source": [
    "- **Where pdf is a list of pdfs saved in the folder**"
   ]
  },
  {
   "cell_type": "code",
   "execution_count": null,
   "id": "3e9b3855",
   "metadata": {},
   "outputs": [],
   "source": [
    "pdfs=[]\n",
    "files = os.listdir('pdfs/.')\n",
    "for i in files:\n",
    "    pdf, ext = os.path.splitext(i)\n",
    "    pdfs.append(pdf)\n",
    "print('Pmids in folder:',len(pdfs))"
   ]
  }
 ],
 "metadata": {
  "kernelspec": {
   "display_name": "Python 3",
   "language": "python",
   "name": "python3"
  },
  "language_info": {
   "codemirror_mode": {
    "name": "ipython",
    "version": 3
   },
   "file_extension": ".py",
   "mimetype": "text/x-python",
   "name": "python",
   "nbconvert_exporter": "python",
   "pygments_lexer": "ipython3",
   "version": "3.8.8"
  }
 },
 "nbformat": 4,
 "nbformat_minor": 5
}
